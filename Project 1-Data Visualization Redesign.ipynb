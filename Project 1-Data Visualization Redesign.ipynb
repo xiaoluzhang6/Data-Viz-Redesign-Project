{
 "cells": [
  {
   "cell_type": "markdown",
   "metadata": {},
   "source": [
    "## 1. Original Visualization\n",
    "The original visualizations can be found __[here](https://www.tableau.com/about/blog/2017/4/flex-your-data-skills-makeover-monday-68584)__<br>\n",
    "<img src=\"files/images/originalViz1.png\"><br><br>\n",
    "*Figure.1*<br>\n",
    "While these two visualization are very clear and easy to understand, I felt that it still required some effort for the viewer to gain full understanding of the data. For example, for the first visualization, it is clear to see the changes in rank of the different skills over the years, but the viewer must move their mouse over to the datapoint in orde to see which exact skill the data is referring to. Also, even though the viewer may view dataset from other countries easible by selecting the country from the drop down menu, it is hard for them to have a comparison of data from each country without having them displayed side by side.\n",
    "<img src=\"files/images/originalViz2.png\"><br><br> \n",
    "*Figure.2*<br>\n",
    "This figure allows the viewer to input key skills they are interested in and displays a chart which illustrates the ranking pattern of the selected skill. This chart blends all of the data together and the only useful information the viewer can get at a glance is ranking change expanding over all three years. Again, the viewer must rely on using the tool tip if they want to see further info, such as the country and specific rank for that year. Both figures' biggest flaw is that the viewer has the control over how much of the data they want to observe; without moving the cursor, or inputing data fields, they could only view a very limited portion of the data.<br><br>\n",
    "\n",
    "-Observe trend of the skills\n",
    ">Skills falling out of favor vs rising popularity of the skills<br>\n",
    "\n",
    "-Audience: students currently studying the Data related field, the unemployed/actively seeking jobs\n",
    ">What are the trends of data-related skills?\n",
    ">filter out data skills, observe trend\n",
    "\n",
    "-Action Invoked:\n",
    ">student will try to take related courses/obtain the skill\n",
    "\n",
    "### Plan of Action: <br>\n",
    "1) filter data down to USA only\n",
    "2) use Tableau to graph data & observe trends\n",
    "3) find a chart type which will \n",
    ">show trends of skills\n",
    ">show skills going into favor (rising ranks) and those falling out of favor(drop in rank)\n",
    "4) observe results and provide insights; forecast the job market for the future\n",
    "\n",
    "\n"
   ]
  },
  {
   "cell_type": "markdown",
   "metadata": {},
   "source": [
    "### Sources:\n",
    "1. Top Skills on Linkedin: __[Makeover Monday Blog Post](https://www.tableau.com/about/blog/2017/4/flex-your-data-skills-makeover-monday-68584)__<br>\n",
    "2. Top Skills on Linkedin Data Set: __[Download Link](https://onedrive.live.com/view.aspx?resid=43EBDBC5D5265516!11505&ithint=file%2cxlsx&app=Excel&authkey=!AMgM7CPfLy7rocE)__<br>"
   ]
  },
  {
   "cell_type": "code",
   "execution_count": null,
   "metadata": {
    "ExecuteTime": {
     "start_time": "2017-10-28T18:26:53.691Z"
    }
   },
   "outputs": [],
   "source": [
    "import pandas as pd\n",
    "\n",
    "# load data\n",
    "df = pd.read_csv('LinkedIn Top Skills.csv', delimiter=',')\n",
    "\n",
    "#filter by country\n",
    "df2 = df[(df.Country == \"United States\")\n",
    "df2.head()"
   ]
  }
 ],
 "metadata": {
  "kernelspec": {
   "display_name": "Python 3",
   "language": "python",
   "name": "python3"
  },
  "language_info": {
   "codemirror_mode": {
    "name": "ipython",
    "version": 3
   },
   "file_extension": ".py",
   "mimetype": "text/x-python",
   "name": "python",
   "nbconvert_exporter": "python",
   "pygments_lexer": "ipython3",
   "version": "3.6.2"
  },
  "toc": {
   "nav_menu": {},
   "number_sections": true,
   "sideBar": true,
   "skip_h1_title": false,
   "toc_cell": false,
   "toc_position": {},
   "toc_section_display": "block",
   "toc_window_display": false
  },
  "varInspector": {
   "cols": {
    "lenName": 16,
    "lenType": 16,
    "lenVar": 40
   },
   "kernels_config": {
    "python": {
     "delete_cmd_postfix": "",
     "delete_cmd_prefix": "del ",
     "library": "var_list.py",
     "varRefreshCmd": "print(var_dic_list())"
    },
    "r": {
     "delete_cmd_postfix": ") ",
     "delete_cmd_prefix": "rm(",
     "library": "var_list.r",
     "varRefreshCmd": "cat(var_dic_list()) "
    }
   },
   "types_to_exclude": [
    "module",
    "function",
    "builtin_function_or_method",
    "instance",
    "_Feature"
   ],
   "window_display": false
  }
 },
 "nbformat": 4,
 "nbformat_minor": 2
}
