{
 "cells": [
  {
   "cell_type": "markdown",
   "metadata": {},
   "source": [
    "## 1. Original Visualization\n",
    "The original visualizations can be found __[here](https://www.tableau.com/about/blog/2017/4/flex-your-data-skills-makeover-monday-68584)__<br>\n",
    "<img src=\"files/images/originalViz1.png\"><br><br>\n",
    "*Figure.1*<br>\n",
    "While these two visualization are very clear and easy to understand, I felt that it still required some effort for the viewer to gain full understanding of the data. For example, for the first visualization, it is clear to see the changes in rank of the different skills over the years, but the viewer must move their mouse over to the datapoint in orde to see which exact skill the data is referring to. Also, even though the viewer may view dataset from other countries easible by selecting the country from the drop down menu, it is hard for them to have a comparison of data from each country without having them displayed side by side.\n",
    "<img src=\"files/images/originalViz2.png\"><br><br> \n",
    "*Figure.2*<br>\n",
    "This figure allows the viewer to input key skills they are interested in and displays a chart which illustrates the ranking pattern of the selected skill. This chart blends all of the data together and the only useful information the viewer can get at a glance is ranking change expanding over all three years. Again, the viewer must rely on using the tool tip if they want to see further info, such as the country and specific rank for that year. The graph also blends all data from all countries together; some skills may not appear at all and the median ranking is a half number and this decreases effectiveness of the dataset. Both figures' biggest flaw is that the viewer has the control over how much of the data they want to observe; without moving the cursor, or inputing data fields, they could only view a very limited portion of the data.<br><br>\n",
    "\n",
    "\n",
    "### Objectives: <br>\n",
    "\n",
    ">This should not be a visualization to just map current popular job skills, but also potentially make a forecast for the future. For example, how long will cloud-computing be at the top? is it worth it to invest an education based around these skills? Would these skills still be relevant by the time I finish my degree? Should I think about updating my education? These are some type of questions my visualization will attemp to explore.\n",
    "\n",
    "-Scope:<br>\n",
    "> Limit to only United States and top 10 skills from year to year.\n",
    "\n",
    "-Observe trend of the skills\n",
    ">Skills falling out of favor vs rising popularity of the skills<br>\n",
    "\n",
    "-Audience: students currently studying the Data related field, and new graduates who are unemployed/actively seeking jobs<br>\n",
    "> Viz should be forward-looking; make an impact and invoke them to take action\n",
    "\n",
    "-Action Invoked:<br>\n",
    ">student/employment seeker will try to take related courses/obtain the skill; or if they already have some knowledge of the skill, they will want to refresh that skill or obtain some related certification.<br>\n",
    "\n",
    "### Plan of Action: <br>\n",
    "1) filter data down to USA only<br>\n",
    "2) use Tableau to graph data & observe trends<br>\n",
    "3) find a chart type which will:\n",
    ">show trends of skills<br>\n",
    ">show skills increase in rank and those falling out of favor(drop in rank)<br>\n",
    "4) observe results and provide insights<br>\n",
    "\n",
    "\n"
   ]
  },
  {
   "cell_type": "code",
   "execution_count": 11,
   "metadata": {
    "ExecuteTime": {
     "end_time": "2017-11-03T01:31:29.232371Z",
     "start_time": "2017-11-03T01:31:29.202631Z"
    }
   },
   "outputs": [],
   "source": [
    "import pandas as pd\n",
    "\n",
    "# load data\n",
    "df = pd.read_csv('LinkedInTopSkills.csv', delimiter=',')"
   ]
  },
  {
   "cell_type": "code",
   "execution_count": 33,
   "metadata": {
    "ExecuteTime": {
     "end_time": "2017-11-03T05:18:22.656008Z",
     "start_time": "2017-11-03T05:18:22.463507Z"
    },
    "scrolled": true
   },
   "outputs": [
    {
     "name": "stderr",
     "output_type": "stream",
     "text": [
      "/usr/local/lib/python3.6/site-packages/ipykernel_launcher.py:6: SettingWithCopyWarning: \n",
      "A value is trying to be set on a copy of a slice from a DataFrame.\n",
      "Try using .loc[row_indexer,col_indexer] = value instead\n",
      "\n",
      "See the caveats in the documentation: http://pandas.pydata.org/pandas-docs/stable/indexing.html#indexing-view-versus-copy\n",
      "  \n"
     ]
    }
   ],
   "source": [
    "#filter by country and keep only top 10 skills for each year\n",
    "df1 = df[(df.Country == \"United States\") & (df['Rank'] < 11)]\n",
    "\n",
    "#create new column; fill all with integer 11\n",
    "df1.insert(4, 'Constant', 11)\n",
    "df1['Importance'] = (df1['Constant'] - df1['Rank'])\n",
    "df1.to_csv('skills_valued.csv')\n"
   ]
  },
  {
   "cell_type": "markdown",
   "metadata": {},
   "source": [
    "# Version 1<br>\n",
    "<img src=\"files/images/redesign1.png\"><br><br>\n",
    "In Tableau: used dual axis; skill on one side and 'importance' values on another with trend line shown.<br>\n",
    "For the first iteration, I showed the importance of each skill by taking the inverse number of their original rank; rank 1 skill had the most importance with a value of 10, rank 2 had the value of 9, etc. Skills are sorted by importance, thus the highest ranking skills had the biggest circle and came on top of the list. The trend lines also shows if this skill is either ascending or descending in ranks. This visualization is a improved version over the original Figure 1, since the trend can be observed immediately, and the audience could see the ranked skill names without moving their mouse.<br><br>\n",
    "\n",
    "However, the visualization is still cluttered; there are too many circles in the frame and the audience might still have difficulty distinguishing one skill from another. There is little difference between consecutive ranks (10 and 9, 7 and 6 etc.) the size of the circles did not make a difference.\n"
   ]
  },
  {
   "cell_type": "markdown",
   "metadata": {},
   "source": [
    "# Version 1.1<br>\n",
    "<img src=\"files/images/redesign1.1.png\"><br><br>\n",
    "This version is a slight improvement over the last iteration; since size of circles were not enough to distinguish small changes in ranking, I decided to use a color scheme to indicate rise/fall of ranking. For skills dropping in importance (ranking) below 6 (thats anything below rank 5), color will change from orange (\"hot skill\") to blue.\n",
    "\n",
    "<br>\n",
    "\n",
    "However, the problem becomes that if a skill rises a small increment and still falls within the cut-off range (thats above or below 5), color will stay the same. Trend lines in combination of the numbers is still not enough to convey if a skill is rising or falling in ranks. For the next few iterations, I've decided to explor options other than using size of circles and the \"importance\" value in ranking the skills and go back to using actual ranking values."
   ]
  },
  {
   "cell_type": "markdown",
   "metadata": {},
   "source": [
    "# Version 1.2<br>\n",
    "<img src=\"files/images/redesign1.2.png\"><br><br>\n",
    "This version was developed as a intermediate iteration after I've decided to give up the idea of using circle sizes to distinguish ranks; it was also used as part of Lab Assignment 4. What I liked about it was that the skills were labelled and the audience would also get an idea of where the skill is placed in ranking based on position.<br><br>\n",
    "\n",
    "However, because the mark labelling in Tableau did not allow for rotation, the skill names were placed in very random postions making the visualization look messy and out of order. The colors used as color scheme were also random and not significant.\n",
    "<br><br>"
   ]
  },
  {
   "cell_type": "markdown",
   "metadata": {},
   "source": [
    "# Version 2.0<br>\n",
    "<img src=\"files/images/redesign2.0.png\"><br><br>\n",
    "This is the final version of the redesign visualization. I took what I liked most about the original visualizations and added on additional features/info to enhance it. Firstly, the after experienting with different chart styles, I still felt the \"bump chart\" looked best with this data set; the audience can trace the increase and decrease in ranking or each skill with ease and the spatial lay out of the ranks from top to bottom makes alot of sense as well. I also labeled the different skills unlike the original visualization, and used a set of color schemes which had more significance; red indicates drop in rank, green is increase in rank, and yellow is no change. The exact change in the ranks are also labelled directly on the data points to clarify trend. The change in rank value was calculated manually, as the data set was small; it was result of skill ranking for 2016 minus the skill ranking for 2014. Those skills labelled by gray colors indicates that they dropped out of top 10 rank by 2016. <br><br>\n",
    "\n",
    "*Future improvements/features: Looking at the final version, I feel that perhaps colors chosen were probably not a good idea to convey trend; red and green could also mean the other way around, as they do in stocks (green is decrease, red is increase). The numbers could also be misleading; without reading the caption, the audience might not understand that it is signifying overall change in ranking. I could perhaps use symbols to indicate trend; red downward arrows for overall decrease in ranking and green arrows for increas in ranking. The exact value could also be labelled beneath the symbol to give a solid indication of the trend (positive/negative). Symbols in combination with the color might clarify ambiguity associated with different interpretations of the colors, symbols etc.\n",
    "\n",
    "since I set the audience limited to students in the Bay Area with the intent of staying after graduation, I did not use any of the data from other countries. It would be interesting to view the ranking trends for other countries as well, and gather insights on career possiblities overseas. But personally, I feel like this dataset is best utilized for data in the United States, just because Linkedin started up in the Bay-Area and it is a well-known networking tool in the country. To make the dataset more accurate, one can take into account the percentage of the population that actually uses Linkedin. It might also be worthwhile to wait for Linkedin to release a larger list for 2016 (current only has top 10 skills) to be able to do a deeper analysis/long term projection of which skills might be persistently ranked for the future and which will eventually drop out of top 25 entirely.If a visualization is impactful, it will invoke the audience to take action and start acquring some of the skills;this itself will be a time-consuming process and they would not want to finish a degree and realize some skills they have learned have dropped out of favor. Another flaw to the dataset that might mislead the audience is that although some skills such as object-oriented programming languages are not on top of the list, it is still a crucial pre-requisite to other skills. <br><br>\n",
    "\n",
    "The answers to the questions I have came up with in the objectives at the beginning of the project are still unclear; we need alot more data to be able to answer the ones with a future outlook. However, what is sure is that information/data related skills are still very relevant and rising in ranks; when skills do fall in ranking, they will not fall too far down for them to be irrelevant(slow descent). Also, almost all top 10 skills are software-related. Thus, if a student is in/around the parameter of the software field, they can be sure that they are on track in pursuing a successful career.\n",
    "\n",
    "\n",
    "\n"
   ]
  },
  {
   "cell_type": "markdown",
   "metadata": {},
   "source": [
    "### Sources:\n",
    "1. Top Skills on Linkedin: __[Makeover Monday Blog Post](https://www.tableau.com/about/blog/2017/4/flex-your-data-skills-makeover-monday-68584)__<br>\n",
    "2. Top Skills on Linkedin Data Set: __[Download Link](https://onedrive.live.com/view.aspx?resid=43EBDBC5D5265516!11505&ithint=file%2cxlsx&app=Excel&authkey=!AMgM7CPfLy7rocE)__<br>\n",
    "3. #MakeoverMonday, Linkedin Top Skills Tweets page: __[Link](https://twitter.com/i/moments/857430926015451138?lang=en)__<br>\n",
    "4. A updated version of the ranking can be viewed here (an older dataset was used for this project): __[Link](https://learning.linkedin.com/week-of-learning/top-skills)__<br>\n"
   ]
  }
 ],
 "metadata": {
  "kernelspec": {
   "display_name": "Python 3",
   "language": "python",
   "name": "python3"
  },
  "language_info": {
   "codemirror_mode": {
    "name": "ipython",
    "version": 3
   },
   "file_extension": ".py",
   "mimetype": "text/x-python",
   "name": "python",
   "nbconvert_exporter": "python",
   "pygments_lexer": "ipython3",
   "version": "3.6.2"
  },
  "toc": {
   "nav_menu": {},
   "number_sections": true,
   "sideBar": true,
   "skip_h1_title": false,
   "toc_cell": false,
   "toc_position": {},
   "toc_section_display": "block",
   "toc_window_display": false
  },
  "varInspector": {
   "cols": {
    "lenName": 16,
    "lenType": 16,
    "lenVar": 40
   },
   "kernels_config": {
    "python": {
     "delete_cmd_postfix": "",
     "delete_cmd_prefix": "del ",
     "library": "var_list.py",
     "varRefreshCmd": "print(var_dic_list())"
    },
    "r": {
     "delete_cmd_postfix": ") ",
     "delete_cmd_prefix": "rm(",
     "library": "var_list.r",
     "varRefreshCmd": "cat(var_dic_list()) "
    }
   },
   "types_to_exclude": [
    "module",
    "function",
    "builtin_function_or_method",
    "instance",
    "_Feature"
   ],
   "window_display": false
  }
 },
 "nbformat": 4,
 "nbformat_minor": 2
}
